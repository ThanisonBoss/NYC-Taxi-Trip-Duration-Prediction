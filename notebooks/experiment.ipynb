{
 "cells": [
  {
   "cell_type": "code",
   "execution_count": 10,
   "metadata": {},
   "outputs": [
    {
     "name": "stderr",
     "output_type": "stream",
     "text": [
      "2023/07/04 11:25:24 INFO mlflow.tracking.fluent: Experiment with name 'NYC-TAXI_TRIP-DURATION-PREDICTION' does not exist. Creating a new experiment.\n"
     ]
    },
    {
     "data": {
      "text/plain": [
       "<Experiment: artifact_location='mlflow-artifacts:/1', creation_time=1688444724271, experiment_id='1', last_update_time=1688444724271, lifecycle_stage='active', name='NYC-TAXI_TRIP-DURATION-PREDICTION', tags={}>"
      ]
     },
     "execution_count": 10,
     "metadata": {},
     "output_type": "execute_result"
    }
   ],
   "source": [
    "import pandas as pd\n",
    "from sklearn.linear_model import LinearRegression\n",
    "from sklearn.feature_extraction import DictVectorizer\n",
    "from sklearn.preprocessing import FunctionTransformer\n",
    "from sklearn.metrics import mean_squared_error\n",
    "from sklearn.model_selection import cross_val_score, train_test_split\n",
    "from sklearn.model_selection import RandomizedSearchCV\n",
    "from sklearn.linear_model import LinearRegression, Ridge, Lasso, ElasticNet\n",
    "from sklearn.tree import DecisionTreeRegressor\n",
    "from sklearn.ensemble import RandomForestRegressor, AdaBoostRegressor, GradientBoostingRegressor\n",
    "from xgboost import XGBRegressor\n",
    "from lightgbm import LGBMRegressor\n",
    "from catboost import CatBoostRegressor\n",
    "from sklearn.svm import SVR\n",
    "from sklearn.neighbors import KNeighborsRegressor\n",
    "from sklearn.gaussian_process import GaussianProcessRegressor\n",
    "import mlflow\n",
    "import datetime\n",
    "import pytz\n",
    "import glob\n",
    "from scipy.stats import uniform\n",
    "from sklearn.pipeline import Pipeline\n",
    "import seaborn as sns\n",
    "import matplotlib.pyplot as plt\n",
    "from hyperopt import hp, fmin, tpe, Trials, STATUS_OK\n",
    "from hyperopt.pyll.stochastic import sample\n",
    "import numpy as np\n",
    "from mlflow.tracking import MlflowClient\n",
    "import os\n",
    "\n",
    "random_seed = 99\n",
    "thailand_timezone = pytz.timezone('Asia/Bangkok')\n",
    "\n",
    "mlflow.set_tracking_uri('http://127.0.0.1:50000')\n",
    "mlflow.set_experiment('NYC-TAXI_TRIP-DURATION-PREDICTION')"
   ]
  },
  {
   "cell_type": "code",
   "execution_count": 11,
   "metadata": {},
   "outputs": [
    {
     "name": "stdout",
     "output_type": "stream",
     "text": [
      "(1717365, 21)\n"
     ]
    },
    {
     "data": {
      "text/html": [
       "<div>\n",
       "<style scoped>\n",
       "    .dataframe tbody tr th:only-of-type {\n",
       "        vertical-align: middle;\n",
       "    }\n",
       "\n",
       "    .dataframe tbody tr th {\n",
       "        vertical-align: top;\n",
       "    }\n",
       "\n",
       "    .dataframe thead th {\n",
       "        text-align: right;\n",
       "    }\n",
       "</style>\n",
       "<table border=\"1\" class=\"dataframe\">\n",
       "  <thead>\n",
       "    <tr style=\"text-align: right;\">\n",
       "      <th></th>\n",
       "      <th>VendorID</th>\n",
       "      <th>lpep_pickup_datetime</th>\n",
       "      <th>lpep_dropoff_datetime</th>\n",
       "      <th>store_and_fwd_flag</th>\n",
       "      <th>RatecodeID</th>\n",
       "      <th>PULocationID</th>\n",
       "      <th>DOLocationID</th>\n",
       "      <th>passenger_count</th>\n",
       "      <th>trip_distance</th>\n",
       "      <th>fare_amount</th>\n",
       "      <th>...</th>\n",
       "      <th>mta_tax</th>\n",
       "      <th>tip_amount</th>\n",
       "      <th>tolls_amount</th>\n",
       "      <th>ehail_fee</th>\n",
       "      <th>improvement_surcharge</th>\n",
       "      <th>total_amount</th>\n",
       "      <th>payment_type</th>\n",
       "      <th>trip_type</th>\n",
       "      <th>congestion_surcharge</th>\n",
       "      <th>duration</th>\n",
       "    </tr>\n",
       "  </thead>\n",
       "  <tbody>\n",
       "    <tr>\n",
       "      <th>0</th>\n",
       "      <td>2</td>\n",
       "      <td>2020-03-01 00:20:18</td>\n",
       "      <td>2020-03-01 00:45:29</td>\n",
       "      <td>N</td>\n",
       "      <td>1.0</td>\n",
       "      <td>41</td>\n",
       "      <td>13</td>\n",
       "      <td>1.0</td>\n",
       "      <td>8.24</td>\n",
       "      <td>26.5</td>\n",
       "      <td>...</td>\n",
       "      <td>0.5</td>\n",
       "      <td>7.64</td>\n",
       "      <td>0.0</td>\n",
       "      <td>None</td>\n",
       "      <td>0.3</td>\n",
       "      <td>38.19</td>\n",
       "      <td>1.0</td>\n",
       "      <td>1.0</td>\n",
       "      <td>2.75</td>\n",
       "      <td>25.18</td>\n",
       "    </tr>\n",
       "    <tr>\n",
       "      <th>1</th>\n",
       "      <td>2</td>\n",
       "      <td>2020-03-01 00:15:42</td>\n",
       "      <td>2020-03-01 00:44:36</td>\n",
       "      <td>N</td>\n",
       "      <td>1.0</td>\n",
       "      <td>181</td>\n",
       "      <td>107</td>\n",
       "      <td>1.0</td>\n",
       "      <td>4.87</td>\n",
       "      <td>21.0</td>\n",
       "      <td>...</td>\n",
       "      <td>0.5</td>\n",
       "      <td>0.00</td>\n",
       "      <td>0.0</td>\n",
       "      <td>None</td>\n",
       "      <td>0.3</td>\n",
       "      <td>25.05</td>\n",
       "      <td>2.0</td>\n",
       "      <td>1.0</td>\n",
       "      <td>2.75</td>\n",
       "      <td>28.90</td>\n",
       "    </tr>\n",
       "    <tr>\n",
       "      <th>2</th>\n",
       "      <td>2</td>\n",
       "      <td>2020-03-01 00:36:18</td>\n",
       "      <td>2020-03-01 00:41:03</td>\n",
       "      <td>N</td>\n",
       "      <td>1.0</td>\n",
       "      <td>41</td>\n",
       "      <td>166</td>\n",
       "      <td>1.0</td>\n",
       "      <td>0.69</td>\n",
       "      <td>5.0</td>\n",
       "      <td>...</td>\n",
       "      <td>0.5</td>\n",
       "      <td>0.00</td>\n",
       "      <td>0.0</td>\n",
       "      <td>None</td>\n",
       "      <td>0.3</td>\n",
       "      <td>6.30</td>\n",
       "      <td>2.0</td>\n",
       "      <td>1.0</td>\n",
       "      <td>0.00</td>\n",
       "      <td>4.75</td>\n",
       "    </tr>\n",
       "    <tr>\n",
       "      <th>3</th>\n",
       "      <td>1</td>\n",
       "      <td>2020-03-01 00:22:14</td>\n",
       "      <td>2020-03-01 00:32:57</td>\n",
       "      <td>N</td>\n",
       "      <td>1.0</td>\n",
       "      <td>129</td>\n",
       "      <td>7</td>\n",
       "      <td>1.0</td>\n",
       "      <td>1.80</td>\n",
       "      <td>9.0</td>\n",
       "      <td>...</td>\n",
       "      <td>0.5</td>\n",
       "      <td>0.00</td>\n",
       "      <td>0.0</td>\n",
       "      <td>None</td>\n",
       "      <td>0.3</td>\n",
       "      <td>10.30</td>\n",
       "      <td>2.0</td>\n",
       "      <td>1.0</td>\n",
       "      <td>0.00</td>\n",
       "      <td>10.72</td>\n",
       "    </tr>\n",
       "    <tr>\n",
       "      <th>4</th>\n",
       "      <td>2</td>\n",
       "      <td>2020-03-01 00:07:22</td>\n",
       "      <td>2020-03-01 00:14:16</td>\n",
       "      <td>N</td>\n",
       "      <td>1.0</td>\n",
       "      <td>74</td>\n",
       "      <td>152</td>\n",
       "      <td>1.0</td>\n",
       "      <td>1.25</td>\n",
       "      <td>7.0</td>\n",
       "      <td>...</td>\n",
       "      <td>0.5</td>\n",
       "      <td>2.49</td>\n",
       "      <td>0.0</td>\n",
       "      <td>None</td>\n",
       "      <td>0.3</td>\n",
       "      <td>10.79</td>\n",
       "      <td>1.0</td>\n",
       "      <td>1.0</td>\n",
       "      <td>0.00</td>\n",
       "      <td>6.90</td>\n",
       "    </tr>\n",
       "  </tbody>\n",
       "</table>\n",
       "<p>5 rows × 21 columns</p>\n",
       "</div>"
      ],
      "text/plain": [
       "   VendorID lpep_pickup_datetime lpep_dropoff_datetime store_and_fwd_flag  \\\n",
       "0         2  2020-03-01 00:20:18   2020-03-01 00:45:29                  N   \n",
       "1         2  2020-03-01 00:15:42   2020-03-01 00:44:36                  N   \n",
       "2         2  2020-03-01 00:36:18   2020-03-01 00:41:03                  N   \n",
       "3         1  2020-03-01 00:22:14   2020-03-01 00:32:57                  N   \n",
       "4         2  2020-03-01 00:07:22   2020-03-01 00:14:16                  N   \n",
       "\n",
       "   RatecodeID PULocationID DOLocationID  passenger_count  trip_distance  \\\n",
       "0         1.0           41           13              1.0           8.24   \n",
       "1         1.0          181          107              1.0           4.87   \n",
       "2         1.0           41          166              1.0           0.69   \n",
       "3         1.0          129            7              1.0           1.80   \n",
       "4         1.0           74          152              1.0           1.25   \n",
       "\n",
       "   fare_amount  ...  mta_tax  tip_amount  tolls_amount  ehail_fee  \\\n",
       "0         26.5  ...      0.5        7.64           0.0       None   \n",
       "1         21.0  ...      0.5        0.00           0.0       None   \n",
       "2          5.0  ...      0.5        0.00           0.0       None   \n",
       "3          9.0  ...      0.5        0.00           0.0       None   \n",
       "4          7.0  ...      0.5        2.49           0.0       None   \n",
       "\n",
       "  improvement_surcharge  total_amount  payment_type  trip_type  \\\n",
       "0                   0.3         38.19           1.0        1.0   \n",
       "1                   0.3         25.05           2.0        1.0   \n",
       "2                   0.3          6.30           2.0        1.0   \n",
       "3                   0.3         10.30           2.0        1.0   \n",
       "4                   0.3         10.79           1.0        1.0   \n",
       "\n",
       "   congestion_surcharge  duration  \n",
       "0                  2.75     25.18  \n",
       "1                  2.75     28.90  \n",
       "2                  0.00      4.75  \n",
       "3                  0.00     10.72  \n",
       "4                  0.00      6.90  \n",
       "\n",
       "[5 rows x 21 columns]"
      ]
     },
     "execution_count": 11,
     "metadata": {},
     "output_type": "execute_result"
    }
   ],
   "source": [
    "file_path = \"../data/raw/2020/*.parquet\"\n",
    "df = pd.concat(map(pd.read_parquet, glob.glob(file_path)))\n",
    "df['duration'] = df['lpep_dropoff_datetime'] - df['lpep_pickup_datetime']\n",
    "df['duration'] = df['duration'].apply(lambda x: round(x.total_seconds() / 60, 2))\n",
    "df[['PULocationID', 'DOLocationID']] = df[['PULocationID', 'DOLocationID']].astype(str)\n",
    "df = df[(df['duration'] >= 0) & (df['duration'] <= 70)]\n",
    "print(df.shape)\n",
    "df.head()"
   ]
  },
  {
   "cell_type": "code",
   "execution_count": 12,
   "metadata": {},
   "outputs": [
    {
     "name": "stdout",
     "output_type": "stream",
     "text": [
      "<class 'pandas.core.frame.DataFrame'>\n",
      "Index: 1717365 entries, 0 to 63109\n",
      "Data columns (total 21 columns):\n",
      " #   Column                 Dtype         \n",
      "---  ------                 -----         \n",
      " 0   VendorID               int64         \n",
      " 1   lpep_pickup_datetime   datetime64[ns]\n",
      " 2   lpep_dropoff_datetime  datetime64[ns]\n",
      " 3   store_and_fwd_flag     object        \n",
      " 4   RatecodeID             float64       \n",
      " 5   PULocationID           object        \n",
      " 6   DOLocationID           object        \n",
      " 7   passenger_count        float64       \n",
      " 8   trip_distance          float64       \n",
      " 9   fare_amount            float64       \n",
      " 10  extra                  float64       \n",
      " 11  mta_tax                float64       \n",
      " 12  tip_amount             float64       \n",
      " 13  tolls_amount           float64       \n",
      " 14  ehail_fee              object        \n",
      " 15  improvement_surcharge  float64       \n",
      " 16  total_amount           float64       \n",
      " 17  payment_type           float64       \n",
      " 18  trip_type              float64       \n",
      " 19  congestion_surcharge   float64       \n",
      " 20  duration               float64       \n",
      "dtypes: datetime64[ns](2), float64(14), int64(1), object(4)\n",
      "memory usage: 288.3+ MB\n"
     ]
    }
   ],
   "source": [
    "df.info()"
   ]
  },
  {
   "cell_type": "code",
   "execution_count": 13,
   "metadata": {},
   "outputs": [
    {
     "name": "stdout",
     "output_type": "stream",
     "text": [
      "Train data shape: (1373892, 3)\n",
      "Test data shape: (343473, 3)\n"
     ]
    }
   ],
   "source": [
    "X = df[['PULocationID', 'DOLocationID', 'trip_distance']]\n",
    "y = df['duration']\n",
    "\n",
    "X_train, X_test, y_train, y_test = train_test_split(X, y, test_size=0.2, random_state=random_seed)\n",
    "print(f\"Train data shape: {X_train.shape}\")\n",
    "print(f\"Test data shape: {X_test.shape}\")"
   ]
  },
  {
   "cell_type": "code",
   "execution_count": 14,
   "metadata": {},
   "outputs": [],
   "source": [
    "# Define the regression models\n",
    "models = [\n",
    "    (\"LinearRegression\", LinearRegression()),\n",
    "    (\"Ridge\", Ridge(random_state=random_seed)),\n",
    "    (\"Lasso\", Lasso(random_state=random_seed)),\n",
    "    (\"ElasticNet\", ElasticNet(random_state=random_seed)),\n",
    "    # (\"DecisionTreeRegressor\", DecisionTreeRegressor(random_state=random_seed)), \n",
    "    # (\"RandomForestRegressor\", RandomForestRegressor(random_state=random_seed)),\n",
    "    (\"XGBRegressor\", XGBRegressor(random_state=random_seed)),\n",
    "    (\"LGBMRegressor\", LGBMRegressor(random_state=random_seed)),\n",
    "    (\"CatBoostRegressor\", CatBoostRegressor(random_state=random_seed, verbose=0)),\n",
    "    # (\"SVR\", SVR()),\n",
    "    # (\"KNeighborsRegressor\", KNeighborsRegressor()),\n",
    "    (\"AdaBoostRegressor\", AdaBoostRegressor(random_state=random_seed)),\n",
    "    (\"GradientBoostingRegressor\", GradientBoostingRegressor(random_state=random_seed)),\n",
    "]\n",
    "\n",
    "for name, model in models:\n",
    "    current_datetime = datetime.datetime.now(thailand_timezone).strftime(\"%Y%m%dT%H%M%S\")\n",
    "    run_name = name + current_datetime\n",
    "    with mlflow.start_run(run_name=run_name) as run:\n",
    "        pipeline = Pipeline([('convert_to_dict', FunctionTransformer(lambda x: x.to_dict(orient='records'))),\n",
    "                             ('vectorizer', DictVectorizer()),\n",
    "                             (name, model)])\n",
    "        \n",
    "        scores = cross_val_score(pipeline, X_train, y_train, cv=5,\n",
    "                                 scoring='neg_root_mean_squared_error')\n",
    "\n",
    "        train_rmse_mean = (-scores).mean()\n",
    "        train_rmse_std = (-scores).std()\n",
    "\n",
    "        pipeline.fit(X_train, y_train)\n",
    "        test_predictions = pipeline.predict(X_test)\n",
    "        test_rmse = mean_squared_error(y_test, test_predictions, squared=False)\n",
    "\n",
    "        params = model.get_params()\n",
    "        \n",
    "        mlflow.set_tags({\"stage\": \"model_selection\", \"model\": name})\n",
    "        mlflow.log_params(params)\n",
    "        mlflow.log_metric(\"Train RMSE MEAN\", train_rmse_mean)\n",
    "        mlflow.log_metric(\"Train RMSE STD\", train_rmse_std)\n",
    "        mlflow.log_metric(\"Test RMSE\", test_rmse)\n",
    "\n",
    "        # final_model = pipeline.fit(X, y)\n",
    "        # mlflow.sklearn.log_model(final_model, \"model\")"
   ]
  },
  {
   "cell_type": "code",
   "execution_count": 15,
   "metadata": {},
   "outputs": [
    {
     "data": {
      "image/png": "[encoded data removed]",
      "text/plain": [
       "<Figure size 800x400 with 1 Axes>"
      ]
     },
     "metadata": {},
     "output_type": "display_data"
    }
   ],
   "source": [
    "# Perform a search using mlflow and retrieve the experiment results\n",
    "df_experiment = mlflow.search_runs(filter_string=\"tags.stage='model_selection'\")\n",
    "columns = ['tags.model', 'metrics.Train RMSE MEAN', 'metrics.Test RMSE']\n",
    "df_experiment = df_experiment[columns]\n",
    "df_experiment.sort_values(by=['metrics.Test RMSE'], inplace=True)\n",
    "df_experiment\n",
    "\n",
    "# Set the figure size\n",
    "plt.figure(figsize=(8, 4))\n",
    "\n",
    "# Create the bar plot using seaborn\n",
    "ax = sns.barplot(x='metrics.Test RMSE', y='tags.model', data=df_experiment)\n",
    "\n",
    "# Add labels and title\n",
    "plt.xlabel('Test RMSE')\n",
    "plt.ylabel('Model')\n",
    "plt.title('Comparison of Model Test RMSE')\n",
    "\n",
    "# Add label numbers to each bar\n",
    "for i, v in enumerate(round(df_experiment['metrics.Test RMSE'], 2)):\n",
    "    bar_color = ax.patches[i].get_facecolor()\n",
    "    ax.text(v + 0.2, i, str(v), color=bar_color, ha='left', va='center')\n",
    "\n",
    "# Display the plot\n",
    "plt.tight_layout()\n",
    "plt.show()"
   ]
  },
  {
   "cell_type": "code",
   "execution_count": 16,
   "metadata": {},
   "outputs": [
    {
     "name": "stdout",
     "output_type": "stream",
     "text": [
      "100%|██████████| 5/5 [45:21<00:00, 544.38s/trial, best loss: 5.65643000159979] \n"
     ]
    }
   ],
   "source": [
    "def objective(params):\n",
    "    current_datetime = datetime.datetime.now(thailand_timezone).strftime(\"%Y%m%dT%H%M%S\")\n",
    "    model_name = 'CatBoostRegressor'\n",
    "    run_name = model_name + current_datetime\n",
    "    with mlflow.start_run(run_name=run_name) as run:\n",
    "        # Instantiate the model with the hyperparameters\n",
    "        model = CatBoostRegressor(**params, random_state=random_seed, verbose=False)\n",
    "        pipeline = Pipeline([('convert_to_dict', FunctionTransformer(lambda x: x.to_dict(orient='records'))),\n",
    "                             ('vectorizer', DictVectorizer()),\n",
    "                             (model_name, model)])\n",
    "\n",
    "        # Fit the model on the training data\n",
    "        scores = cross_val_score(pipeline, X_train, y_train, cv=5,\n",
    "                                 scoring='neg_root_mean_squared_error')\n",
    "        train_rmse_mean = (-scores).mean()\n",
    "        train_rmse_std = (-scores).std()\n",
    "\n",
    "        pipeline.fit(X_train, y_train)\n",
    "        test_predictions = pipeline.predict(X_test)\n",
    "        test_rmse = mean_squared_error(y_test, test_predictions, squared=False)\n",
    "\n",
    "        params = model.get_params()\n",
    "        mlflow.set_tags({\"stage\": \"hyperparameter_tune\", \"model\": model_name})\n",
    "        mlflow.log_params(params)\n",
    "        mlflow.log_metric(\"Train RMSE MEAN\", train_rmse_mean)\n",
    "        mlflow.log_metric(\"Train RMSE STD\", train_rmse_std)\n",
    "        mlflow.log_metric(\"Test RMSE\", test_rmse)\n",
    "\n",
    "        return train_rmse_mean\n",
    "\n",
    "# Define the search space for hyperparameters\n",
    "params_grid = {\n",
    "    'learning_rate': hp.loguniform('learning_rate', np.log(0.01), np.log(0.5)),\n",
    "    'depth': hp.quniform('depth', 3, 10, 1),\n",
    "    'iterations': hp.choice('iterations', [1000, 2000, 3000]),\n",
    "}\n",
    "\n",
    "tpe_search = fmin(\n",
    "    fn=objective,\n",
    "    space=params_grid,\n",
    "    max_evals=5,\n",
    "    algo=tpe.suggest\n",
    ")"
   ]
  },
  {
   "cell_type": "code",
   "execution_count": 17,
   "metadata": {},
   "outputs": [
    {
     "name": "stdout",
     "output_type": "stream",
     "text": [
      "best run id: 487b4de529a24f0a8991161365925793\n",
      "best model: CatBoostRegressor\n",
      "best parameter: {'verbose': False, 'random_state': 99, 'iterations': 3000, 'depth': 8.0, 'loss_function': 'RMSE', 'learning_rate': 0.1039907738383601}\n",
      "best rmse: 5.65643000159979\n"
     ]
    }
   ],
   "source": [
    "all_experiments = mlflow.search_runs(filter_string=\"status='FINISHED'\")\n",
    "best_experiment = all_experiments.loc[[all_experiments['metrics.Train RMSE MEAN'].idxmin()]]\n",
    "best_run_id = best_experiment['run_id'].values[0]\n",
    "best_model = best_experiment['tags.model'].values[0]\n",
    "best_rmse = best_experiment['metrics.Train RMSE MEAN'].values[0]\n",
    "best_parameter = best_experiment[best_experiment.columns[best_experiment.notna().all()]]\n",
    "best_parameter = best_parameter.apply(pd.to_numeric, errors='ignore')\n",
    "best_parameter = best_parameter.replace({'True': True, 'False': False})\n",
    "best_parameter = best_parameter.filter(regex=r'^params')  \\\n",
    "                                .rename(columns=lambda x: x.replace('params.', ''))  \\\n",
    "                                .to_dict(orient='records')[0]\n",
    "\n",
    "print(f\"best run id: {best_run_id}\")\n",
    "print(f\"best model: {best_model}\")\n",
    "print(f\"best parameter: {best_parameter}\")\n",
    "print(f\"best rmse: {best_rmse}\")"
   ]
  },
  {
   "cell_type": "code",
   "execution_count": 18,
   "metadata": {},
   "outputs": [],
   "source": [
    "#Train final model\n",
    "with mlflow.start_run(run_id=best_run_id) as run:\n",
    "    model = CatBoostRegressor(**best_parameter)\n",
    "    pipeline = Pipeline([('convert_to_dict', FunctionTransformer(lambda x: x.to_dict(orient='records'))),\n",
    "                         ('vectorizer', DictVectorizer()),\n",
    "                         (best_model.lower() , model)])\n",
    "    final_model = pipeline.fit(X, y)\n",
    "    mlflow.sklearn.log_model(final_model, \"model\")"
   ]
  },
  {
   "cell_type": "code",
   "execution_count": 24,
   "metadata": {},
   "outputs": [
    {
     "name": "stderr",
     "output_type": "stream",
     "text": [
      "Successfully registered model 'duration_predict'.\n",
      "2023/07/04 13:21:34 INFO mlflow.tracking._model_registry.client: Waiting up to 300 seconds for model version to finish creation. Model name: duration_predict, version 1\n",
      "Created version '1' of model 'duration_predict'.\n"
     ]
    },
    {
     "data": {
      "text/plain": [
       "<ModelVersion: aliases=[], creation_timestamp=1688451694839, current_stage='None', description='', last_updated_timestamp=1688451694839, name='duration_predict', run_id='487b4de529a24f0a8991161365925793', run_link='', source='mlflow-artifacts:/1/487b4de529a24f0a8991161365925793/artifacts/model', status='READY', status_message='', tags={}, user_id='', version='1'>"
      ]
     },
     "execution_count": 24,
     "metadata": {},
     "output_type": "execute_result"
    }
   ],
   "source": [
    "# Register model\n",
    "model_name = \"duration_predict\"\n",
    "model_uri = f\"runs:/{best_run_id}/model\"\n",
    "mlflow.register_model(model_uri, model_name)"
   ]
  },
  {
   "cell_type": "code",
   "execution_count": 26,
   "metadata": {},
   "outputs": [
    {
     "data": {
      "text/plain": [
       "<ModelVersion: aliases=[], creation_timestamp=1688451694839, current_stage='Production', description='', last_updated_timestamp=1688451827644, name='duration_predict', run_id='487b4de529a24f0a8991161365925793', run_link='', source='mlflow-artifacts:/1/487b4de529a24f0a8991161365925793/artifacts/model', status='READY', status_message='', tags={}, user_id='', version='1'>"
      ]
     },
     "execution_count": 26,
     "metadata": {},
     "output_type": "execute_result"
    }
   ],
   "source": [
    "# Change stage to production\n",
    "client = MlflowClient()\n",
    "client.transition_model_version_stage(name=\"duration_predict\", version=1, stage=\"Production\")"
   ]
  },
  {
   "cell_type": "code",
   "execution_count": 31,
   "metadata": {},
   "outputs": [
    {
     "data": {
      "text/plain": [
       "array([11.2426258 , 22.22935058,  0.81821142, ..., 25.62375864,\n",
       "       25.49175269, 14.80068091])"
      ]
     },
     "execution_count": 31,
     "metadata": {},
     "output_type": "execute_result"
    }
   ],
   "source": [
    "# Load model\n",
    "stage = \"Production\"\n",
    "model = mlflow.sklearn.load_model(model_uri=f\"models:/{model_name}/{stage}\")\n",
    "model.predict(X_test)"
   ]
  }
 ],
 "metadata": {
  "kernelspec": {
   "display_name": ".venv",
   "language": "python",
   "name": "python3"
  },
  "language_info": {
   "codemirror_mode": {
    "name": "ipython",
    "version": 3
   },
   "file_extension": ".py",
   "mimetype": "text/x-python",
   "name": "python",
   "nbconvert_exporter": "python",
   "pygments_lexer": "ipython3",
   "version": "3.10.6"
  },
  "orig_nbformat": 4
 },
 "nbformat": 4,
 "nbformat_minor": 2
}
